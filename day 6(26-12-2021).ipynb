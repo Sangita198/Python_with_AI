{
 "cells": [
  {
   "cell_type": "markdown",
   "id": "04aa43dc",
   "metadata": {},
   "source": [
    "# operators\n",
    "- +\n",
    "- -\n",
    "- /\n",
    "- //\n",
    "- **\n",
    "- %\n",
    "- *"
   ]
  },
  {
   "cell_type": "code",
   "execution_count": 1,
   "id": "729b2711",
   "metadata": {},
   "outputs": [
    {
     "name": "stdout",
     "output_type": "stream",
     "text": [
      "12\n",
      "8\n",
      "20\n",
      "5.0\n",
      "0\n",
      "100\n",
      "5\n"
     ]
    }
   ],
   "source": [
    "x=10\n",
    "y=2\n",
    "print(x+y)\n",
    "print(x-y)\n",
    "print(x*y)\n",
    "print(x/y)\n",
    "print(x%y)\n",
    "print(x**y)\n",
    "print(x//y)\n"
   ]
  },
  {
   "cell_type": "markdown",
   "id": "8f1fbb56",
   "metadata": {},
   "source": [
    "# Assignment Operators:\n",
    "- used to assign a value to variables\n",
    "- operators:\n",
    "    - **'='**\n",
    "    - **'+='**\n",
    "    - **'-='**\n",
    "    - **'/='**\n",
    "    - **'%='**\n",
    "    - **'//='**\n",
    "    - **'**='**\n"
   ]
  },
  {
   "cell_type": "code",
   "execution_count": 2,
   "id": "c39d4948",
   "metadata": {},
   "outputs": [
    {
     "name": "stdout",
     "output_type": "stream",
     "text": [
      "11\n",
      "7\n",
      "21\n",
      "7.0\n",
      "343.0\n",
      "3.0\n",
      "1.0\n"
     ]
    }
   ],
   "source": [
    "x=5\n",
    "x += 6\n",
    "print(x)\n",
    "x -= 4\n",
    "print(x)\n",
    "x *= 3\n",
    "print(x)\n",
    "x /= 3\n",
    "print(x)\n",
    "x **= 3\n",
    "print(x)\n",
    "x %= 4\n",
    "print(x)\n",
    "x //= 2\n",
    "print(x)"
   ]
  },
  {
   "cell_type": "markdown",
   "id": "6e6b2138",
   "metadata": {},
   "source": [
    "# comparision operators\n",
    "- used to compare the values\n",
    "- operators:\n",
    "    - **'=='**\n",
    "    - **'!='**\n",
    "    - **'<'**\n",
    "    - **'>'**\n",
    "    - **'<='**\n",
    "    - **'>='**"
   ]
  },
  {
   "cell_type": "code",
   "execution_count": 5,
   "id": "b7aaa293",
   "metadata": {},
   "outputs": [
    {
     "name": "stdout",
     "output_type": "stream",
     "text": [
      "False\n",
      "True\n",
      "True\n",
      "False\n",
      "True\n",
      "False\n"
     ]
    }
   ],
   "source": [
    "x=6\n",
    "y=9\n",
    "print(x==y)\n",
    "print(x!=y)\n",
    "print(x<y)\n",
    "print(x>y)\n",
    "print(x<=y)\n",
    "print(x>=y)"
   ]
  },
  {
   "cell_type": "markdown",
   "id": "4dc5e16a",
   "metadata": {},
   "source": [
    "# Logical operators\n",
    "- used to combine conditional statements\n",
    "- operators:\n",
    "    - **'and'**\n",
    "    - **'or'**\n",
    "    - **'not'**"
   ]
  },
  {
   "cell_type": "code",
   "execution_count": 7,
   "id": "d479186e",
   "metadata": {},
   "outputs": [
    {
     "name": "stdout",
     "output_type": "stream",
     "text": [
      "False\n",
      "True\n",
      "True\n"
     ]
    }
   ],
   "source": [
    "x=3\n",
    "print(x>5 and x<9)\n",
    "print(x>5 or x<9)\n",
    "print(not(x>5 and x<9))\n"
   ]
  },
  {
   "cell_type": "markdown",
   "id": "9c1ebea1",
   "metadata": {},
   "source": [
    "# identity operators\n",
    "- operators:\n",
    "    - **'is'**\n",
    "    - **'is not'**"
   ]
  },
  {
   "cell_type": "code",
   "execution_count": 8,
   "id": "50504a10",
   "metadata": {},
   "outputs": [
    {
     "name": "stdout",
     "output_type": "stream",
     "text": [
      "True\n",
      "False\n",
      "True\n"
     ]
    }
   ],
   "source": [
    "a=3\n",
    "b=3\n",
    "c=8\n",
    "print(a is b)\n",
    "print(a is c)\n",
    "print(a is b is not c)"
   ]
  },
  {
   "cell_type": "markdown",
   "id": "e8694483",
   "metadata": {},
   "source": [
    "# Membership Operators\n",
    "- used to test given sequence is presented in object\n",
    "- operators:\n",
    "    - **'in'**\n",
    "    - **'not in'**"
   ]
  },
  {
   "cell_type": "code",
   "execution_count": 9,
   "id": "bfe47a15",
   "metadata": {},
   "outputs": [
    {
     "name": "stdout",
     "output_type": "stream",
     "text": [
      "True\n",
      "True\n",
      "False\n",
      "True\n"
     ]
    }
   ],
   "source": [
    "s=\"Python\"\n",
    "print(\"y\" in s)\n",
    "print(\"th\" in s)\n",
    "print(\"thn\" in s)\n",
    "print(\"pn\" not in s)"
   ]
  },
  {
   "cell_type": "markdown",
   "id": "6090d0e6",
   "metadata": {},
   "source": [
    "# control flow statements\n",
    "- **conditional statements**\n",
    "    - **if-else statement**\n",
    "- **looping statements**\n",
    "    - **while loop statement**\n",
    "    - **for loop statement**"
   ]
  },
  {
   "cell_type": "markdown",
   "id": "29614840",
   "metadata": {},
   "source": [
    "# synatx\n",
    "- **if boolean_condition:**\n",
    "    - **statments**\n",
    "- **elif boolean_condition:**\n",
    "    - **statments**\n",
    "- **else:**\n",
    "    - **statments**"
   ]
  },
  {
   "cell_type": "markdown",
   "id": "b765f4fa",
   "metadata": {},
   "source": [
    "# if-else statement"
   ]
  },
  {
   "cell_type": "code",
   "execution_count": 11,
   "id": "d8c09bf7",
   "metadata": {},
   "outputs": [
    {
     "name": "stdout",
     "output_type": "stream",
     "text": [
      "enter no.3\n",
      "odd number\n"
     ]
    }
   ],
   "source": [
    "# check given number is odd or even number\n",
    "n=int(input(\"enter no.\"))\n",
    "if (n%2==0):\n",
    "    print(\"even number\")\n",
    "else:\n",
    "    print(\"odd number\")"
   ]
  },
  {
   "cell_type": "code",
   "execution_count": 12,
   "id": "bf080554",
   "metadata": {},
   "outputs": [
    {
     "name": "stdout",
     "output_type": "stream",
     "text": [
      "enter no.15\n",
      "yes\n"
     ]
    }
   ],
   "source": [
    "# check given is multiple of both 3 and 5\n",
    "n=int(input(\"enter no.\"))\n",
    "if (n%3==0 and n%5==0):\n",
    "    print(\"yes\")\n",
    "else:\n",
    "    print(\"no\")"
   ]
  },
  {
   "cell_type": "code",
   "execution_count": 14,
   "id": "84445e71",
   "metadata": {},
   "outputs": [
    {
     "name": "stdout",
     "output_type": "stream",
     "text": [
      "enter no.22\n",
      "positive number\n"
     ]
    }
   ],
   "source": [
    "#check given no is positive,negavite or zero\n",
    "n=int(input(\"enter no.\"))\n",
    "if (n==0):\n",
    "    print(\"zero\")\n",
    "elif(n>0):\n",
    "    print(\"positive number\")\n",
    "else:\n",
    "    print(\"negative number\")"
   ]
  },
  {
   "cell_type": "code",
   "execution_count": 19,
   "id": "ab852fee",
   "metadata": {},
   "outputs": [
    {
     "name": "stdout",
     "output_type": "stream",
     "text": [
      "enter 1st no.2\n",
      "enter 2nd no.3\n",
      "enter 3rd no.4\n",
      "3rd no is largest 4\n"
     ]
    }
   ],
   "source": [
    "# find largest no from 3 inputs\n",
    "a=int(input(\"enter 1st no.\"))\n",
    "b=int(input(\"enter 2nd no.\"))\n",
    "c=int(input(\"enter 3rd no.\"))\n",
    "if a>b and a>c:\n",
    "    print(\"1st no is largest\",a)\n",
    "elif b>c and b>a:\n",
    "    print(\"2nd no is largest\",b)\n",
    "else:\n",
    "    print(\"3rd no is largest\",c)\n"
   ]
  },
  {
   "cell_type": "code",
   "execution_count": 23,
   "id": "fe5889ea",
   "metadata": {},
   "outputs": [
    {
     "name": "stdout",
     "output_type": "stream",
     "text": [
      "enter marks:88\n",
      "A\n"
     ]
    }
   ],
   "source": [
    "# find grading\n",
    "m=int(input(\"enter marks:\"))\n",
    "if(m>80):\n",
    "    print(\"A\")\n",
    "elif(m>60 and m<80):\n",
    "    print(\"B\")\n",
    "elif(m>50 and m<60):\n",
    "    print(\"c\")\n",
    "elif(m>45 and m<50):\n",
    "    print(\"D\")\n",
    "elif(m>25 and m<45):\n",
    "    print(\"E\")\n",
    "else:\n",
    "    print(\"F\")\n",
    "\n",
    "\n",
    "    "
   ]
  },
  {
   "cell_type": "markdown",
   "id": "b065528f",
   "metadata": {},
   "source": [
    "# while loop statement\n",
    "\n",
    "    "
   ]
  },
  {
   "cell_type": "markdown",
   "id": "25472e59",
   "metadata": {},
   "source": [
    "# syntax\n",
    "- **while boolean_condition:**\n",
    "    - **statements**\n",
    "    - **increment/decrement**"
   ]
  },
  {
   "cell_type": "code",
   "execution_count": 25,
   "id": "ca104a4e",
   "metadata": {},
   "outputs": [
    {
     "name": "stdout",
     "output_type": "stream",
     "text": [
      "Python\n",
      "Python\n",
      "Python\n",
      "Python\n",
      "Python\n"
     ]
    }
   ],
   "source": [
    "# want to print \"Python\" 5 times\n",
    "i=1\n",
    "while(i<=5):\n",
    "    print(\"Python\")\n",
    "    i=i+1\n",
    "    "
   ]
  },
  {
   "cell_type": "code",
   "execution_count": 26,
   "id": "5e313edd",
   "metadata": {},
   "outputs": [
    {
     "name": "stdout",
     "output_type": "stream",
     "text": [
      "1 2 3 4 5 6 7 8 9 10 "
     ]
    }
   ],
   "source": [
    "# print from 1 to 10\n",
    "i=1\n",
    "while(i<=10):\n",
    "    print(i,end=\" \")\n",
    "    i=i+1"
   ]
  },
  {
   "cell_type": "code",
   "execution_count": 27,
   "id": "820cd341",
   "metadata": {},
   "outputs": [
    {
     "name": "stdout",
     "output_type": "stream",
     "text": [
      "2 4 6 8 10 "
     ]
    }
   ],
   "source": [
    "# from 1 to 10 only print even no\n",
    "i=1\n",
    "while(i<=10):\n",
    "    if(i%2==0):\n",
    "        print(i,end=\" \")\n",
    "    i=i+1"
   ]
  },
  {
   "cell_type": "code",
   "execution_count": 35,
   "id": "48e8c58d",
   "metadata": {},
   "outputs": [
    {
     "name": "stdout",
     "output_type": "stream",
     "text": [
      "enetr no.39\n",
      "1 3 13 39 "
     ]
    }
   ],
   "source": [
    "# factors of 6\n",
    "n=int(input(\"enetr no.\"))\n",
    "i=1\n",
    "while(i<=n):\n",
    "    if(n%i==0):\n",
    "        print(i,end=\" \")\n",
    "    i=i+1"
   ]
  },
  {
   "cell_type": "code",
   "execution_count": null,
   "id": "da8a17b7",
   "metadata": {},
   "outputs": [],
   "source": []
  },
  {
   "cell_type": "code",
   "execution_count": null,
   "id": "b59607aa",
   "metadata": {},
   "outputs": [],
   "source": []
  }
 ],
 "metadata": {
  "kernelspec": {
   "display_name": "Python 3 (ipykernel)",
   "language": "python",
   "name": "python3"
  },
  "language_info": {
   "codemirror_mode": {
    "name": "ipython",
    "version": 3
   },
   "file_extension": ".py",
   "mimetype": "text/x-python",
   "name": "python",
   "nbconvert_exporter": "python",
   "pygments_lexer": "ipython3",
   "version": "3.9.7"
  }
 },
 "nbformat": 4,
 "nbformat_minor": 5
}
