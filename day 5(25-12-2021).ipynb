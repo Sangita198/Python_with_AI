{
 "cells": [
  {
   "cell_type": "markdown",
   "id": "366f9b85",
   "metadata": {},
   "source": []
  },
  {
   "cell_type": "markdown",
   "id": "521322a4",
   "metadata": {},
   "source": [
    "# markdown\n",
    "## markdown\n",
    "### MArkdown\n",
    "#### markdown\n",
    "\n",
    "- Python\n",
    "    - Python 1\n",
    "    - Python 2\n",
    "        - Python 1\n",
    "        - Python 2\n",
    "\n",
    "- *Python*\n",
    "\n",
    "- **Python**\n",
    "\n",
    "- ***Python***\n",
    "\n"
   ]
  },
  {
   "cell_type": "markdown",
   "id": "3e2dcac8",
   "metadata": {},
   "source": [
    "# Print Function():\n",
    "    -It allows to print specific text or message."
   ]
  },
  {
   "cell_type": "code",
   "execution_count": 2,
   "id": "05c5d25d",
   "metadata": {},
   "outputs": [
    {
     "name": "stdout",
     "output_type": "stream",
     "text": [
      "hello world\n"
     ]
    }
   ],
   "source": [
    "print(\"hello world\")"
   ]
  },
  {
   "cell_type": "code",
   "execution_count": 3,
   "id": "e0002ef3",
   "metadata": {},
   "outputs": [
    {
     "name": "stdout",
     "output_type": "stream",
     "text": [
      "HELLO,WORLD\n"
     ]
    }
   ],
   "source": [
    "print(\"HELLO,WORLD\")"
   ]
  },
  {
   "cell_type": "code",
   "execution_count": 4,
   "id": "d6a14307",
   "metadata": {},
   "outputs": [
    {
     "name": "stdout",
     "output_type": "stream",
     "text": [
      "one two three\n"
     ]
    }
   ],
   "source": [
    "print(\"one\",\"two\",\"three\")"
   ]
  },
  {
   "cell_type": "markdown",
   "id": "08eaa547",
   "metadata": {},
   "source": [
    "# Variable\n",
    "- store some data values\n"
   ]
  },
  {
   "cell_type": "code",
   "execution_count": 5,
   "id": "bacb2625",
   "metadata": {},
   "outputs": [
    {
     "name": "stdout",
     "output_type": "stream",
     "text": [
      "10\n"
     ]
    }
   ],
   "source": [
    "# single variable assigned to single value\n",
    "a=10\n",
    "print(a)"
   ]
  },
  {
   "cell_type": "code",
   "execution_count": 6,
   "id": "0864b24d",
   "metadata": {},
   "outputs": [
    {
     "name": "stdout",
     "output_type": "stream",
     "text": [
      "10 10 10\n"
     ]
    }
   ],
   "source": [
    "# multiple variables assigned to single value\n",
    "a=b=c=10\n",
    "print(a,b,c)"
   ]
  },
  {
   "cell_type": "code",
   "execution_count": 7,
   "id": "6471f5de",
   "metadata": {},
   "outputs": [
    {
     "name": "stdout",
     "output_type": "stream",
     "text": [
      "10 20 30\n"
     ]
    }
   ],
   "source": [
    "# multiple variables assigned to multiple values\n",
    "a,b,c=10,20,30\n",
    "print(a,b,c)"
   ]
  },
  {
   "cell_type": "markdown",
   "id": "deb98056",
   "metadata": {},
   "source": [
    "# Data Types\n",
    "- int\n",
    "- float\n",
    "- string"
   ]
  },
  {
   "cell_type": "code",
   "execution_count": 8,
   "id": "547fab5f",
   "metadata": {},
   "outputs": [
    {
     "name": "stdout",
     "output_type": "stream",
     "text": [
      "5\n",
      "<class 'int'>\n"
     ]
    }
   ],
   "source": [
    "#int\n",
    "a=5\n",
    "print(a)\n",
    "print(type(a))"
   ]
  },
  {
   "cell_type": "code",
   "execution_count": 9,
   "id": "1700193c",
   "metadata": {},
   "outputs": [
    {
     "name": "stdout",
     "output_type": "stream",
     "text": [
      "1.2 <class 'float'>\n"
     ]
    }
   ],
   "source": [
    "#float\n",
    "f=1.2\n",
    "print(f,type(f))"
   ]
  },
  {
   "cell_type": "code",
   "execution_count": 10,
   "id": "aa40d9e5",
   "metadata": {},
   "outputs": [
    {
     "name": "stdout",
     "output_type": "stream",
     "text": [
      "Python <class 'str'>\n"
     ]
    }
   ],
   "source": [
    "#string\n",
    "s=\"Python\"\n",
    "print(s,type(s))"
   ]
  },
  {
   "cell_type": "markdown",
   "id": "a16ee8d4",
   "metadata": {},
   "source": [
    "# Data Conversions\n",
    "- integrs --> int\n",
    "- floating --> float\n",
    "- string --> str"
   ]
  },
  {
   "cell_type": "code",
   "execution_count": 20,
   "id": "972005cc",
   "metadata": {},
   "outputs": [
    {
     "name": "stdout",
     "output_type": "stream",
     "text": [
      "10 <class 'int'>\n",
      "10.0 <class 'float'>\n",
      "10 <class 'str'>\n"
     ]
    }
   ],
   "source": [
    "n=10\n",
    "print(n,type(n))\n",
    "f=float(n)\n",
    "print(f,type(f))\n",
    "s=str(n)\n",
    "print(s,type(s))"
   ]
  },
  {
   "cell_type": "code",
   "execution_count": 21,
   "id": "85375224",
   "metadata": {},
   "outputs": [
    {
     "name": "stdout",
     "output_type": "stream",
     "text": [
      "1.3 <class 'float'>\n",
      "1 <class 'int'>\n",
      "1.3 <class 'str'>\n"
     ]
    }
   ],
   "source": [
    "f=1.3\n",
    "print(f,type(f))\n",
    "n=int(f)\n",
    "print(n,type(n))\n",
    "s=str(f)\n",
    "print(s,type(s))"
   ]
  },
  {
   "cell_type": "code",
   "execution_count": 22,
   "id": "8cda7f50",
   "metadata": {},
   "outputs": [
    {
     "name": "stdout",
     "output_type": "stream",
     "text": [
      "1234 <class 'str'>\n",
      "1234.0 <class 'float'>\n",
      "1234 <class 'int'>\n"
     ]
    }
   ],
   "source": [
    "s=\"1234\"\n",
    "print(s,type(s))\n",
    "f=float(s)\n",
    "print(f,type(f))\n",
    "n=int(s)\n",
    "print(n,type(n))"
   ]
  },
  {
   "cell_type": "markdown",
   "id": "ae4c3ff2",
   "metadata": {},
   "source": [
    "# Input Function:\n",
    "- takes input from the user"
   ]
  },
  {
   "cell_type": "markdown",
   "id": "a05b6eda",
   "metadata": {},
   "source": [
    "# Exercises"
   ]
  },
  {
   "cell_type": "code",
   "execution_count": 23,
   "id": "e6ee8046",
   "metadata": {},
   "outputs": [
    {
     "name": "stdout",
     "output_type": "stream",
     "text": [
      "Name ** Is ** James\n"
     ]
    }
   ],
   "source": [
    "# Display three string “Name”, “Is”, “James” as “Name**Is**James”\n",
    "print(\"Name\",\"**\",\"Is\",\"**\",\"James\")"
   ]
  },
  {
   "cell_type": "code",
   "execution_count": 24,
   "id": "648f3d62",
   "metadata": {},
   "outputs": [
    {
     "name": "stdout",
     "output_type": "stream",
     "text": [
      "Name**Is**James\n"
     ]
    }
   ],
   "source": [
    "#Write a Python program which accepts the radius of a circle from the user and compute the area .\n",
    "\n",
    "print(\"Name**Is**James\")\n"
   ]
  },
  {
   "cell_type": "code",
   "execution_count": 26,
   "id": "656b36ca",
   "metadata": {},
   "outputs": [
    {
     "name": "stdout",
     "output_type": "stream",
     "text": [
      "enter radius: 22\n",
      "area of circle is: 1519.76\n"
     ]
    }
   ],
   "source": [
    "# Accept two numbers from the user and return their sum, multiplication and division.\n",
    "r=int(input(\"enter radius: \"))\n",
    "area=3.14*r**2\n",
    "print(\"area of circle is:\",area)"
   ]
  },
  {
   "cell_type": "code",
   "execution_count": 30,
   "id": "4d25c912",
   "metadata": {},
   "outputs": [
    {
     "name": "stdout",
     "output_type": "stream",
     "text": [
      "enter 1st no. 2\n",
      "enter 2nd no. 5\n",
      "addition is:\n",
      "7\n",
      "multiplication is:\n",
      "10\n",
      "division is\n",
      "0.4\n"
     ]
    }
   ],
   "source": [
    "#Using input() function, print() function and another function you may need; ask for the current year, then print the answer +50.\n",
    "a=eval(input(\"enter 1st no. \"))\n",
    "b=eval(input(\"enter 2nd no. \"))\n",
    "print(\"addition is:\",a+b,\"multiplication is:\",a*b,\"division is\",a/b,sep=\"\\n\")"
   ]
  },
  {
   "cell_type": "code",
   "execution_count": 28,
   "id": "ba29cc96",
   "metadata": {},
   "outputs": [
    {
     "name": "stdout",
     "output_type": "stream",
     "text": [
      "enter 1st no. 2000\n",
      "result= 2050\n"
     ]
    }
   ],
   "source": [
    "year=eval(input(\"enter 1st no. \"))\n",
    "print(\"result=\",year+50)"
   ]
  },
  {
   "cell_type": "code",
   "execution_count": 29,
   "id": "aa242950",
   "metadata": {},
   "outputs": [
    {
     "name": "stdout",
     "output_type": "stream",
     "text": [
      "Name ** is ** James\n"
     ]
    }
   ],
   "source": [
    "s=\"Name\"\n",
    "a=\"is\"\n",
    "p=\"James\"\n",
    "print(s,\"**\",a,\"**\",p)"
   ]
  },
  {
   "cell_type": "code",
   "execution_count": 32,
   "id": "220f0065",
   "metadata": {},
   "outputs": [
    {
     "name": "stdout",
     "output_type": "stream",
     "text": [
      "('name',) <class 'tuple'>\n"
     ]
    }
   ],
   "source": [
    "a=\"name\",\n",
    "print(a,type(a))"
   ]
  },
  {
   "cell_type": "code",
   "execution_count": null,
   "id": "2c7b08da",
   "metadata": {},
   "outputs": [],
   "source": []
  }
 ],
 "metadata": {
  "kernelspec": {
   "display_name": "Python 3 (ipykernel)",
   "language": "python",
   "name": "python3"
  },
  "language_info": {
   "codemirror_mode": {
    "name": "ipython",
    "version": 3
   },
   "file_extension": ".py",
   "mimetype": "text/x-python",
   "name": "python",
   "nbconvert_exporter": "python",
   "pygments_lexer": "ipython3",
   "version": "3.9.7"
  }
 },
 "nbformat": 4,
 "nbformat_minor": 5
}
